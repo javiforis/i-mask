{
 "cells": [
  {
   "cell_type": "markdown",
   "metadata": {},
   "source": [
    "# Función lector de mascarillas\n",
    "\n",
    "En base a la observacion de etiquetas de mascarillas y su lectura en tesseract, montar un Count Vectorizer que recoja las palabras o n-gramas clave que suelen indicar si: \n",
    "\n",
    "* La mascarilla es reutilizable o no\n",
    "    * En caso que sea reutilizable, el número de lavados recomendado\n",
    "    * En caso que no sea reutilizable, el número de horas máximas \n",
    "* El certificado de la mascarilla (UNE 0064...\n",
    "* Su capacidad de filtración\n"
   ]
  },
  {
   "cell_type": "code",
   "execution_count": 2,
   "metadata": {},
   "outputs": [],
   "source": [
    "# cargo librerias\n",
    "from PIL import Image\n",
    "import pytesseract as tess\n",
    "import cv2\n",
    "from skimage.io import imread\n",
    "import os\n",
    "import matplotlib.pyplot as plt\n",
    "import re\n",
    "from sklearn.feature_extraction.text import CountVectorizer\n",
    "import pandas as pd\n"
   ]
  },
  {
   "cell_type": "code",
   "execution_count": 3,
   "metadata": {},
   "outputs": [
    {
     "data": {
      "text/plain": [
       "{'no': 11,\n",
       " 'reutilizable': 13,\n",
       " '4': 2,\n",
       " 'horas': 6,\n",
       " '8': 4,\n",
       " 'lavar': 9,\n",
       " '25': 0,\n",
       " 'veces': 15,\n",
       " 'no reutilizable': 12,\n",
       " 'reutilizable 4': 14,\n",
       " '4 horas': 3,\n",
       " 'horas 8': 7,\n",
       " '8 horas': 5,\n",
       " 'horas lavar': 8,\n",
       " 'lavar 25': 10,\n",
       " '25 veces': 1}"
      ]
     },
     "execution_count": 3,
     "metadata": {},
     "output_type": "execute_result"
    }
   ],
   "source": [
    "# creo la expresion que vectorizara\n",
    "palabras_clave = ['no reutilizable 4 horas 8 horas lavar 25 veces']\n",
    "\n",
    "vectorizer = CountVectorizer(binary = True, ngram_range = (1, 2), token_pattern = '(?u)\\\\b\\\\w+\\\\b')\n",
    "vectorizer.fit(palabras_clave)\n",
    "\n",
    "vectorizer.vocabulary_"
   ]
  },
  {
   "cell_type": "code",
   "execution_count": 5,
   "metadata": {},
   "outputs": [
    {
     "data": {
      "text/plain": [
       "['Folipropseno welds Poliproptenc Ze \\\\ ise MASCARILLAS HIGIENICAS NO REUTILIZABLES Mascavillas higiénicas no reut 0, confection, marcada y uso, Parte 1: Para uso Material: Polipropiena, no teido. material itrante, tra metalica, Instrucciones de uso: alocar 0 no solucidn’ tay shiste ta pinza cn fanart ita No usar la mascaritla mas de 4 horas ni tocarla con las manos durante su uso, Sua pot ota on easo de aoe ox humedeacac datwire. ADVERTENCIA: Este dispasitivo no es un producto sanitario en el sentido Directiva 93/42 0 del Reglamento UE / 2017/745, ni un equipo de} proteccidn individual en el sentido det Reglamento UE / 2016/425, PARA USO PERSONAL, NO REUTILIZABLE Vida Fabricado en China por: Www mercadanaes 100 500 103 WM cosoue']"
      ]
     },
     "execution_count": 5,
     "metadata": {},
     "output_type": "execute_result"
    }
   ],
   "source": [
    "imagen = Image.open(\"Etiquetas/Mercadona.png\")\n",
    "texto = tess.image_to_string(imagen)\n",
    "texto = ' '.join(texto.split())\n",
    "lista = []\n",
    "lista.append(texto)\n",
    "lista"
   ]
  },
  {
   "cell_type": "code",
   "execution_count": 13,
   "metadata": {},
   "outputs": [],
   "source": [
    "# funcion\n",
    "\n",
    "def lector(vectorizador, direccion_image):\n",
    "    \n",
    "    # diccionario con el output \n",
    "    resultados = {\"Reut o no\" : None, \n",
    "                 \"Uso\" : None,\n",
    "                 \"Certificados\" : None}\n",
    "    # cargo imagen\n",
    "\n",
    "    imagen = Image.open(direccion_image)\n",
    "    \n",
    "    # la convierto en texto\n",
    "\n",
    "    texto = tess.image_to_string(imagen)\n",
    "    \n",
    "    # limpio el texto\n",
    "\n",
    "    texto = ' '.join(texto.split())\n",
    "\n",
    "    # meto el texto en una lista (requerimiento del vectorizador)\n",
    "    lista = []\n",
    "    lista.append(texto)\n",
    "    \n",
    "    # la encajo contra el vectorizador\n",
    "\n",
    "    lista_vectorizada = vectorizador.transform(lista)\n",
    "    \n",
    "    # resultados\n",
    "    \n",
    "    if lista_vectorizada.toarray()[:, vectorizador.vocabulary_['no reutilizable']][0] == 1:\n",
    "        resultados[\"Reut o no\"] = \"No reutilizable\"\n",
    "        if lista_vectorizada.toarray()[:, vectorizador.vocabulary_['4 horas']][0] == 1:\n",
    "            resultados[\"Uso\"] = \"4 horas\"\n",
    "        elif lista_vectorizada.toarray()[:, vectorizador.vocabulary_['8 horas']][0] == 1:\n",
    "            resultados[\"Uso\"] = \"8 horas\"\n",
    "    \n",
    "    elif lista_vectorizada.toarray()[:, vectorizador.vocabulary_['no reutilizable']][0] == 0:\n",
    "        resultados[\"Reut o no\"] = \"Reutilizable\"\n",
    "        if lista_vectorizada.toarray()[:, vectorizador.vocabulary_['lavar 25']][0] == 1:\n",
    "            resultados[\"Uso\"] = \"25 lavados\"     \n",
    "    return resultados\n",
    "        \n",
    "        "
   ]
  },
  {
   "cell_type": "code",
   "execution_count": 14,
   "metadata": {},
   "outputs": [
    {
     "data": {
      "text/plain": [
       "{'Reut o no': 'Reutilizable', 'Uso': '25 lavados', 'Certificados': None}"
      ]
     },
     "execution_count": 14,
     "metadata": {},
     "output_type": "execute_result"
    }
   ],
   "source": [
    "# ejemplo con una mascarilla REUTILIZABLE\n",
    "lector(vectorizer, direccion_image = 'Etiquetas/MASK reut.png')"
   ]
  },
  {
   "cell_type": "code",
   "execution_count": 15,
   "metadata": {},
   "outputs": [
    {
     "data": {
      "text/plain": [
       "{'Reut o no': 'No reutilizable', 'Uso': '4 horas', 'Certificados': None}"
      ]
     },
     "execution_count": 15,
     "metadata": {},
     "output_type": "execute_result"
    }
   ],
   "source": [
    "# ejemplo con una mascarilla NO REUTILIZABLE\n",
    "lector(vectorizer, direccion_image = 'Etiquetas/Mercadona.png')"
   ]
  },
  {
   "cell_type": "code",
   "execution_count": null,
   "metadata": {},
   "outputs": [],
   "source": []
  }
 ],
 "metadata": {
  "kernelspec": {
   "display_name": "Python 3",
   "language": "python",
   "name": "python3"
  },
  "language_info": {
   "codemirror_mode": {
    "name": "ipython",
    "version": 3
   },
   "file_extension": ".py",
   "mimetype": "text/x-python",
   "name": "python",
   "nbconvert_exporter": "python",
   "pygments_lexer": "ipython3",
   "version": "3.8.3"
  },
  "varInspector": {
   "cols": {
    "lenName": 16,
    "lenType": 16,
    "lenVar": 40
   },
   "kernels_config": {
    "python": {
     "delete_cmd_postfix": "",
     "delete_cmd_prefix": "del ",
     "library": "var_list.py",
     "varRefreshCmd": "print(var_dic_list())"
    },
    "r": {
     "delete_cmd_postfix": ") ",
     "delete_cmd_prefix": "rm(",
     "library": "var_list.r",
     "varRefreshCmd": "cat(var_dic_list()) "
    }
   },
   "types_to_exclude": [
    "module",
    "function",
    "builtin_function_or_method",
    "instance",
    "_Feature"
   ],
   "window_display": false
  }
 },
 "nbformat": 4,
 "nbformat_minor": 4
}
